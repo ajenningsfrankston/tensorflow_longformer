{
 "metadata": {
  "kernelspec": {
   "language": "python",
   "display_name": "Python 3",
   "name": "python3"
  },
  "language_info": {
   "pygments_lexer": "ipython3",
   "nbconvert_exporter": "python",
   "version": "3.6.4",
   "file_extension": ".py",
   "codemirror_mode": {
    "name": "ipython",
    "version": 3
   },
   "name": "python",
   "mimetype": "text/x-python"
  }
 },
 "nbformat_minor": 4,
 "nbformat": 4,
 "cells": [
  {
   "cell_type": "markdown",
   "source": [
    "# TensorFlow LongFormer NER Baseline\n",
    "\n",
    "This notebook is a TensorFlow starter notebook for Kaggle's \"Feedback Prize - Evaluating Student Writing\" Competition. Currently this notebook uses\n",
    "* backbone LongFormer\n",
    "* NER formulation\n",
    "* one fold\n",
    "\n",
    "With simple changes, we can convert this notebook into Question Answer formulation and we can try different backbones. Furthermore this notebook is one fold. It trains with 90% data and validates on 10% data. We can convert this notebook to K-fold or train with 100% data for boost in LB.\n",
    "\n",
    "The transformer model LongFormer is explained [here][1]. It is similar to Roberta but can accept inputs as wide as 4096 tokens! In this notebook we feed the transformer with 1024 wide tokens. HuggingFace user AllenAI uploaded pretrained weights for us [here][2]\n",
    "\n",
    "[1]: https://huggingface.co/docs/transformers/model_doc/longformer\n",
    "[2]: https://huggingface.co/allenai/longformer-base-4096"
   ],
   "metadata": {}
  },
  {
   "cell_type": "markdown",
   "source": [
    "# Configuration\n",
    "This notebook can either train a new model or load a previously trained model (made from previous notebook version). Furthermore, this notebook can either create new NER tokens or load existing tokens (made from previous notebook version). In this notebook version, we will load model and load NER tokens. \n",
    "\n",
    "Also this notebook can load huggingface stuff (like tokenizers) from a Kaggle dataset, or download it from internet. (If it downloads from internet, you can then put it in a Kaggle dataset, so next time you can turn internet off)."
   ],
   "metadata": {}
  },
  {
   "cell_type": "code",
   "source": [
    "import os\n",
    "# DECLARE HOW MANY GPUS YOU WISH TO USE. \n",
    "# KAGGLE ONLY HAS 1, BUT OFFLINE, YOU CAN USE MORE\n",
    "os.environ[\"CUDA_VISIBLE_DEVICES\"]=\"0\" #0,1,2,3 for four gpu\n",
    "\n",
    "# VERSION FOR SAVING MODEL WEIGHTS\n",
    "VER=12\n",
    "\n",
    "# IF VARIABLE IS NONE, THEN NOTEBOOK COMPUTES TOKENS\n",
    "# OTHERWISE NOTEBOOK LOADS TOKENS FROM PATH\n",
    "LOAD_TOKENS_FROM = '../input/tf-longformer-v12'\n",
    "\n",
    "# IF VARIABLE IS NONE, THEN NOTEBOOK TRAINS A NEW MODEL\n",
    "# OTHERWISE IT LOADS YOUR PREVIOUSLY TRAINED MODEL\n",
    "LOAD_MODEL_FROM = '../input/tf-longformer-v12'\n",
    "\n",
    "# IF FOLLOWING IS NONE, THEN NOTEBOOK \n",
    "# USES INTERNET AND DOWNLOADS HUGGINGFACE \n",
    "# CONFIG, TOKENIZER, AND MODEL\n",
    "DOWNLOADED_MODEL_PATH = '../input/tf-longformer-v12'\n",
    "\n",
    "if DOWNLOADED_MODEL_PATH is None:\n",
    "    DOWNLOADED_MODEL_PATH = 'model'    \n",
    "MODEL_NAME = 'allenai/longformer-base-4096'"
   ],
   "metadata": {
    "execution": {
     "iopub.status.busy": "2021-12-17T19:44:55.357448Z",
     "iopub.execute_input": "2021-12-17T19:44:55.357739Z",
     "iopub.status.idle": "2021-12-17T19:44:55.363836Z",
     "shell.execute_reply.started": "2021-12-17T19:44:55.357706Z",
     "shell.execute_reply": "2021-12-17T19:44:55.363022Z"
    },
    "trusted": true
   },
   "execution_count": 1,
   "outputs": []
  },
  {
   "cell_type": "markdown",
   "source": [
    "# How To Submit TensorFlow Without Internet\n",
    "Many people ask me, how do I submit TensorFlow models without internet? With HuggingFace Transformer, it's easy. Just download the following 3 things (1) model weights, (2) tokenizer files, (3) config file, and upload them to a Kaggle dataset. Below shows code how to get the files from HuggingFace for AllenAI's model `longformer-base`. But this same code can download any transformer, like for example `roberta-base`."
   ],
   "metadata": {}
  },
  {
   "cell_type": "code",
   "source": [
    "if DOWNLOADED_MODEL_PATH == 'model':\n",
    "    os.mkdir('model')\n",
    "    \n",
    "    tokenizer = AutoTokenizer.from_pretrained(MODEL_NAME)\n",
    "    tokenizer.save_pretrained('model')\n",
    "\n",
    "    config = AutoConfig.from_pretrained(MODEL_NAME) \n",
    "    config.save_pretrained('model')\n",
    "\n",
    "    backbone = TFAutoModel.from_pretrained(MODEL_NAME, config=config)\n",
    "    backbone.save_pretrained('model')"
   ],
   "metadata": {
    "execution": {
     "iopub.status.busy": "2021-12-17T19:45:04.389188Z",
     "iopub.execute_input": "2021-12-17T19:45:04.389451Z",
     "iopub.status.idle": "2021-12-17T19:45:36.943121Z",
     "shell.execute_reply.started": "2021-12-17T19:45:04.389415Z",
     "shell.execute_reply": "2021-12-17T19:45:36.942408Z"
    },
    "trusted": true
   },
   "execution_count": 2,
   "outputs": []
  },
  {
   "cell_type": "markdown",
   "source": [
    "The above saves the files\n",
    "* TOKENIZER FILES - merges.txt, tokenizer_config.json, special_tokens_map.json, tokenizer.json, vocab.json\n",
    "* CONFIG FILE - config.json\n",
    "* MODEL WEIGHT FILE - tf_model.h5\n",
    "\n",
    "Then just upload all these files to a Kaggle dataset, like what I did [here][1]. Then you load them into your notebook like the notebook you are reading. And we can turn internet off!\n",
    "\n",
    "[1]: https://www.kaggle.com/cdeotte/tf-longformer-v12"
   ],
   "metadata": {}
  },
  {
   "cell_type": "markdown",
   "source": [
    "# Load Libraries"
   ],
   "metadata": {}
  },
  {
   "cell_type": "code",
   "source": [
    "import pandas as pd, numpy as np\n",
    "import matplotlib.pyplot as plt\n",
    "import tensorflow as tf\n",
    "os.environ['TF_CPP_MIN_LOG_LEVEL'] = '3'\n",
    "from transformers import *\n",
    "print('TF version',tf.__version__)"
   ],
   "metadata": {
    "execution": {
     "iopub.status.busy": "2021-12-17T19:02:27.397135Z",
     "iopub.execute_input": "2021-12-17T19:02:27.39767Z",
     "iopub.status.idle": "2021-12-17T19:02:37.724805Z",
     "shell.execute_reply.started": "2021-12-17T19:02:27.397619Z",
     "shell.execute_reply": "2021-12-17T19:02:37.724033Z"
    },
    "trusted": true
   },
   "execution_count": 3,
   "outputs": [
    {
     "ename": "ModuleNotFoundError",
     "evalue": "No module named 'pandas'",
     "output_type": "error",
     "traceback": [
      "\u001B[0;31m---------------------------------------------------------------------------\u001B[0m",
      "\u001B[0;31mModuleNotFoundError\u001B[0m                       Traceback (most recent call last)",
      "\u001B[0;32m/var/folders/s4/hqpk71s51lq88685j836lbjw0000gn/T/ipykernel_6092/948560367.py\u001B[0m in \u001B[0;36m<module>\u001B[0;34m\u001B[0m\n\u001B[0;32m----> 1\u001B[0;31m \u001B[0;32mimport\u001B[0m \u001B[0mpandas\u001B[0m \u001B[0;32mas\u001B[0m \u001B[0mpd\u001B[0m\u001B[0;34m,\u001B[0m \u001B[0mnumpy\u001B[0m \u001B[0;32mas\u001B[0m \u001B[0mnp\u001B[0m\u001B[0;34m\u001B[0m\u001B[0;34m\u001B[0m\u001B[0m\n\u001B[0m\u001B[1;32m      2\u001B[0m \u001B[0;32mimport\u001B[0m \u001B[0mmatplotlib\u001B[0m\u001B[0;34m.\u001B[0m\u001B[0mpyplot\u001B[0m \u001B[0;32mas\u001B[0m \u001B[0mplt\u001B[0m\u001B[0;34m\u001B[0m\u001B[0;34m\u001B[0m\u001B[0m\n\u001B[1;32m      3\u001B[0m \u001B[0;32mimport\u001B[0m \u001B[0mtensorflow\u001B[0m \u001B[0;32mas\u001B[0m \u001B[0mtf\u001B[0m\u001B[0;34m\u001B[0m\u001B[0;34m\u001B[0m\u001B[0m\n\u001B[1;32m      4\u001B[0m \u001B[0mos\u001B[0m\u001B[0;34m.\u001B[0m\u001B[0menviron\u001B[0m\u001B[0;34m[\u001B[0m\u001B[0;34m'TF_CPP_MIN_LOG_LEVEL'\u001B[0m\u001B[0;34m]\u001B[0m \u001B[0;34m=\u001B[0m \u001B[0;34m'3'\u001B[0m\u001B[0;34m\u001B[0m\u001B[0;34m\u001B[0m\u001B[0m\n\u001B[1;32m      5\u001B[0m \u001B[0;32mfrom\u001B[0m \u001B[0mtransformers\u001B[0m \u001B[0;32mimport\u001B[0m \u001B[0;34m*\u001B[0m\u001B[0;34m\u001B[0m\u001B[0;34m\u001B[0m\u001B[0m\n",
      "\u001B[0;31mModuleNotFoundError\u001B[0m: No module named 'pandas'"
     ]
    }
   ]
  },
  {
   "cell_type": "code",
   "source": [
    "# USE MULTIPLE GPUS\n",
    "if os.environ[\"CUDA_VISIBLE_DEVICES\"].count(',') == 0:\n",
    "    strategy = tf.distribute.get_strategy()\n",
    "    print('single strategy')\n",
    "else:\n",
    "    strategy = tf.distribute.MirroredStrategy()\n",
    "    print('multiple strategy')"
   ],
   "metadata": {
    "execution": {
     "iopub.status.busy": "2021-12-17T19:02:40.295197Z",
     "iopub.execute_input": "2021-12-17T19:02:40.295765Z",
     "iopub.status.idle": "2021-12-17T19:02:40.308029Z",
     "shell.execute_reply.started": "2021-12-17T19:02:40.295726Z",
     "shell.execute_reply": "2021-12-17T19:02:40.3073Z"
    },
    "trusted": true
   },
   "execution_count": null,
   "outputs": []
  },
  {
   "cell_type": "code",
   "source": [
    "tf.config.optimizer.set_experimental_options({\"auto_mixed_precision\": True})\n",
    "print('Mixed precision enabled')"
   ],
   "metadata": {
    "execution": {
     "iopub.status.busy": "2021-12-17T19:02:42.199358Z",
     "iopub.execute_input": "2021-12-17T19:02:42.199629Z",
     "iopub.status.idle": "2021-12-17T19:02:42.20539Z",
     "shell.execute_reply.started": "2021-12-17T19:02:42.199597Z",
     "shell.execute_reply": "2021-12-17T19:02:42.204578Z"
    },
    "trusted": true
   },
   "execution_count": null,
   "outputs": []
  },
  {
   "cell_type": "markdown",
   "source": [
    "# Load Train"
   ],
   "metadata": {}
  },
  {
   "cell_type": "code",
   "source": [
    "train = pd.read_csv('../input/feedback-prize-2021/train.csv')\n",
    "print( train.shape )\n",
    "train.head()"
   ],
   "metadata": {
    "execution": {
     "iopub.status.busy": "2021-12-17T19:02:44.855239Z",
     "iopub.execute_input": "2021-12-17T19:02:44.85577Z",
     "iopub.status.idle": "2021-12-17T19:02:46.779254Z",
     "shell.execute_reply.started": "2021-12-17T19:02:44.855731Z",
     "shell.execute_reply": "2021-12-17T19:02:46.778562Z"
    },
    "trusted": true
   },
   "execution_count": null,
   "outputs": []
  },
  {
   "cell_type": "code",
   "source": [
    "print('The train labels are:')\n",
    "train.discourse_type.unique()"
   ],
   "metadata": {
    "execution": {
     "iopub.status.busy": "2021-12-17T19:02:50.365326Z",
     "iopub.execute_input": "2021-12-17T19:02:50.366824Z",
     "iopub.status.idle": "2021-12-17T19:02:50.38963Z",
     "shell.execute_reply.started": "2021-12-17T19:02:50.366776Z",
     "shell.execute_reply": "2021-12-17T19:02:50.388774Z"
    },
    "trusted": true
   },
   "execution_count": null,
   "outputs": []
  },
  {
   "cell_type": "code",
   "source": [
    "IDS = train.id.unique()\n",
    "print('There are',len(IDS),'train texts.')"
   ],
   "metadata": {
    "execution": {
     "iopub.status.busy": "2021-12-17T19:03:13.590962Z",
     "iopub.execute_input": "2021-12-17T19:03:13.591316Z",
     "iopub.status.idle": "2021-12-17T19:03:13.626623Z",
     "shell.execute_reply.started": "2021-12-17T19:03:13.591272Z",
     "shell.execute_reply": "2021-12-17T19:03:13.623392Z"
    },
    "trusted": true
   },
   "execution_count": null,
   "outputs": []
  },
  {
   "cell_type": "markdown",
   "source": [
    "# Tokenize Train\n",
    "The following code converts Kaggle's train dataset into a NER token array that we can use to train a NER transformer. I have made it very clear which targets belong to which class. This allows us to very easily convert this code to `Question Answer formulation` if we want. Just change the 14 NER arrays to be 14 arrays of `start position` and `end position` for each of the 7 classes. (You will need to think creatively what to do if a single text has multiple of one class)."
   ],
   "metadata": {}
  },
  {
   "cell_type": "code",
   "source": [
    "MAX_LEN = 1024\n",
    "\n",
    "# THE TOKENS AND ATTENTION ARRAYS\n",
    "tokenizer = AutoTokenizer.from_pretrained(DOWNLOADED_MODEL_PATH)\n",
    "train_tokens = np.zeros((len(IDS),MAX_LEN), dtype='int32')\n",
    "train_attention = np.zeros((len(IDS),MAX_LEN), dtype='int32')\n",
    "\n",
    "# THE 14 CLASSES FOR NER\n",
    "lead_b = np.zeros((len(IDS),MAX_LEN))\n",
    "lead_i = np.zeros((len(IDS),MAX_LEN))\n",
    "\n",
    "position_b = np.zeros((len(IDS),MAX_LEN))\n",
    "position_i = np.zeros((len(IDS),MAX_LEN))\n",
    "\n",
    "evidence_b = np.zeros((len(IDS),MAX_LEN))\n",
    "evidence_i = np.zeros((len(IDS),MAX_LEN))\n",
    "\n",
    "claim_b = np.zeros((len(IDS),MAX_LEN))\n",
    "claim_i = np.zeros((len(IDS),MAX_LEN))\n",
    "\n",
    "conclusion_b = np.zeros((len(IDS),MAX_LEN))\n",
    "conclusion_i = np.zeros((len(IDS),MAX_LEN))\n",
    "\n",
    "counterclaim_b = np.zeros((len(IDS),MAX_LEN))\n",
    "counterclaim_i = np.zeros((len(IDS),MAX_LEN))\n",
    "\n",
    "rebuttal_b = np.zeros((len(IDS),MAX_LEN))\n",
    "rebuttal_i = np.zeros((len(IDS),MAX_LEN))\n",
    "\n",
    "# HELPER VARIABLES\n",
    "train_lens = []\n",
    "targets_b = [lead_b, position_b, evidence_b, claim_b, conclusion_b, counterclaim_b, rebuttal_b]\n",
    "targets_i = [lead_i, position_i, evidence_i, claim_i, conclusion_i, counterclaim_i, rebuttal_i]\n",
    "target_map = {'Lead':0, 'Position':1, 'Evidence':2, 'Claim':3, 'Concluding Statement':4,\n",
    "             'Counterclaim':5, 'Rebuttal':6}"
   ],
   "metadata": {
    "execution": {
     "iopub.status.busy": "2021-12-17T19:46:00.356436Z",
     "iopub.execute_input": "2021-12-17T19:46:00.356718Z",
     "iopub.status.idle": "2021-12-17T19:46:00.488839Z",
     "shell.execute_reply.started": "2021-12-17T19:46:00.356683Z",
     "shell.execute_reply": "2021-12-17T19:46:00.488048Z"
    },
    "trusted": true
   },
   "execution_count": null,
   "outputs": []
  },
  {
   "cell_type": "code",
   "source": [
    "# WE ASSUME DATAFRAME IS ASCENDING WHICH IT IS\n",
    "assert( np.sum(train.groupby('id')['discourse_start'].diff()<=0)==0 )\n",
    "\n",
    "# FOR LOOP THROUGH EACH TRAIN TEXT\n",
    "for id_num in range(len(IDS)):\n",
    "    if LOAD_TOKENS_FROM: break\n",
    "    if id_num%100==0: print(id_num,', ',end='')\n",
    "        \n",
    "    # READ TRAIN TEXT, TOKENIZE, AND SAVE IN TOKEN ARRAYS    \n",
    "    n = IDS[id_num]\n",
    "    name = f'../input/feedback-prize-2021/train/{n}.txt'\n",
    "    txt = open(name, 'r').read()\n",
    "    train_lens.append( len(txt.split()))\n",
    "    tokens = tokenizer.encode_plus(txt, max_length=MAX_LEN, padding='max_length',\n",
    "                                   truncation=True, return_offsets_mapping=True)\n",
    "    train_tokens[id_num,] = tokens['input_ids']\n",
    "    train_attention[id_num,] = tokens['attention_mask']\n",
    "    \n",
    "    # FIND TARGETS IN TEXT AND SAVE IN TARGET ARRAYS\n",
    "    offsets = tokens['offset_mapping']\n",
    "    offset_index = 0\n",
    "    df = train.loc[train.id==n]\n",
    "    for index,row in df.iterrows():\n",
    "        a = row.discourse_start\n",
    "        b = row.discourse_end\n",
    "        if offset_index>len(offsets)-1:\n",
    "            break\n",
    "        c = offsets[offset_index][0]\n",
    "        d = offsets[offset_index][1]\n",
    "        beginning = True\n",
    "        while b>c:\n",
    "            if (c>=a)&(b>=d):\n",
    "                k = target_map[row.discourse_type]\n",
    "                if beginning:\n",
    "                    targets_b[k][id_num][offset_index] = 1\n",
    "                    beginning = False\n",
    "                else:\n",
    "                    targets_i[k][id_num][offset_index] = 1\n",
    "            offset_index += 1\n",
    "            if offset_index>len(offsets)-1:\n",
    "                break\n",
    "            c = offsets[offset_index][0]\n",
    "            d = offsets[offset_index][1]"
   ],
   "metadata": {
    "execution": {
     "iopub.status.busy": "2021-12-17T19:46:04.046099Z",
     "iopub.execute_input": "2021-12-17T19:46:04.046513Z",
     "iopub.status.idle": "2021-12-17T19:46:21.970254Z",
     "shell.execute_reply.started": "2021-12-17T19:46:04.046477Z",
     "shell.execute_reply": "2021-12-17T19:46:21.968928Z"
    },
    "trusted": true
   },
   "execution_count": null,
   "outputs": []
  },
  {
   "cell_type": "code",
   "source": [
    "if LOAD_TOKENS_FROM is None:\n",
    "    plt.hist(train_lens,bins=100)\n",
    "    plt.show()"
   ],
   "metadata": {
    "execution": {
     "iopub.status.busy": "2021-12-17T19:46:24.685481Z",
     "iopub.execute_input": "2021-12-17T19:46:24.685783Z",
     "iopub.status.idle": "2021-12-17T19:46:25.033283Z",
     "shell.execute_reply.started": "2021-12-17T19:46:24.685746Z",
     "shell.execute_reply": "2021-12-17T19:46:25.032509Z"
    },
    "trusted": true
   },
   "execution_count": null,
   "outputs": []
  },
  {
   "cell_type": "code",
   "source": [
    "if LOAD_TOKENS_FROM is None:\n",
    "    targets = np.zeros((len(IDS),MAX_LEN,15), dtype='int32')\n",
    "    for k in range(7):\n",
    "        targets[:,:,2*k] = targets_b[k]\n",
    "        targets[:,:,2*k+1] = targets_i[k]\n",
    "    targets[:,:,14] = 1-np.max(targets,axis=-1)"
   ],
   "metadata": {
    "execution": {
     "iopub.status.busy": "2021-12-17T19:10:19.6076Z",
     "iopub.execute_input": "2021-12-17T19:10:19.607868Z",
     "iopub.status.idle": "2021-12-17T19:10:19.615012Z",
     "shell.execute_reply.started": "2021-12-17T19:10:19.607838Z",
     "shell.execute_reply": "2021-12-17T19:10:19.614184Z"
    },
    "trusted": true
   },
   "execution_count": null,
   "outputs": []
  },
  {
   "cell_type": "code",
   "source": "if LOAD_TOKENS_FROM is None:\n    np.save(f'targets_{MAX_LEN}', targets)\n    np.save(f'tokens_{MAX_LEN}', train_tokens)\n    np.save(f'attention_{MAX_LEN}', train_attention)\n    print('Saved NER tokens')\nelse:\n    targets = np.load(f'{LOAD_TOKENS_FROM}/targets_{MAX_LEN}.npy')\n    train_tokens = np.load(f'{LOAD_TOKENS_FROM}/tokens_{MAX_LEN}.npy')\n    train_attention = np.load(f'{LOAD_TOKENS_FROM}/attention_{MAX_LEN}.npy')\n    print('Loaded NER tokens')",
   "metadata": {
    "execution": {
     "iopub.status.busy": "2021-12-17T19:10:32.786414Z",
     "iopub.execute_input": "2021-12-17T19:10:32.786686Z",
     "iopub.status.idle": "2021-12-17T19:10:38.80212Z",
     "shell.execute_reply.started": "2021-12-17T19:10:32.786634Z",
     "shell.execute_reply": "2021-12-17T19:10:38.801253Z"
    },
    "trusted": true
   },
   "execution_count": null,
   "outputs": []
  },
  {
   "cell_type": "markdown",
   "source": "# Build Model\nWe will use LongFormer backbone and add our own NER head using one hidden layer of size 256 and one final layer with softmax. We use 15 classes because we have a `B` class and `I` class for each of 7 labels. And we have an additional class (called `O` class) for tokens that do not belong to one of the 14 classes.",
   "metadata": {}
  },
  {
   "cell_type": "code",
   "source": "def build_model():\n    \n    tokens = tf.keras.layers.Input(shape=(MAX_LEN,), name = 'tokens', dtype=tf.int32)\n    attention = tf.keras.layers.Input(shape=(MAX_LEN,), name = 'attention', dtype=tf.int32)\n    \n    config = AutoConfig.from_pretrained(DOWNLOADED_MODEL_PATH+'/config.json') \n    backbone = TFAutoModel.from_pretrained(DOWNLOADED_MODEL_PATH+'/tf_model.h5', config=config)\n    \n    x = backbone(tokens, attention_mask=attention)\n    x = tf.keras.layers.Dense(256, activation='relu')(x[0])\n    x = tf.keras.layers.Dense(15, activation='softmax', dtype='float32')(x)\n    \n    model = tf.keras.Model(inputs=[tokens,attention], outputs=x)\n    model.compile(optimizer = tf.keras.optimizers.Adam(lr = 1e-4),\n                  loss = [tf.keras.losses.CategoricalCrossentropy()],\n                  metrics = [tf.keras.metrics.CategoricalAccuracy()])\n    \n    return model",
   "metadata": {
    "execution": {
     "iopub.status.busy": "2021-12-17T19:11:08.750971Z",
     "iopub.execute_input": "2021-12-17T19:11:08.751248Z",
     "iopub.status.idle": "2021-12-17T19:11:08.759133Z",
     "shell.execute_reply.started": "2021-12-17T19:11:08.751218Z",
     "shell.execute_reply": "2021-12-17T19:11:08.758307Z"
    },
    "trusted": true
   },
   "execution_count": null,
   "outputs": []
  },
  {
   "cell_type": "code",
   "source": "with strategy.scope():\n    model = build_model()",
   "metadata": {
    "execution": {
     "iopub.status.busy": "2021-12-17T19:11:12.748811Z",
     "iopub.execute_input": "2021-12-17T19:11:12.749213Z",
     "iopub.status.idle": "2021-12-17T19:11:43.691886Z",
     "shell.execute_reply.started": "2021-12-17T19:11:12.749178Z",
     "shell.execute_reply": "2021-12-17T19:11:43.691131Z"
    },
    "trusted": true
   },
   "execution_count": null,
   "outputs": []
  },
  {
   "cell_type": "markdown",
   "source": "# Train or Load Model\nIf you provide a path in variable `LOAD_MODEL_FROM` above, then it will load your previously trained model. Otherwise it will train now. \n\nWe train 5 epochs of batch size 32 using learning rate `1e4` for the first four and `1e5` for the last epoch. I trained my model offline. If you wish to train on Kaggle's GPU, we may need to reduce the batch size. If we reduce the batch size to 8. That is 1/4 original. So we should also reduce the learning rates to `0.25e-4` and `0.25e-5`.",
   "metadata": {}
  },
  {
   "cell_type": "code",
   "source": "# TRAIN VALID SPLIT 90% 10%\nnp.random.seed(42)\ntrain_idx = np.random.choice(np.arange(len(IDS)),int(0.9*len(IDS)),replace=False)\nvalid_idx = np.setdiff1d(np.arange(len(IDS)),train_idx)\nnp.random.seed(None)\nprint('Train size',len(train_idx),', Valid size',len(valid_idx))",
   "metadata": {
    "execution": {
     "iopub.status.busy": "2021-12-17T19:12:24.784726Z",
     "iopub.execute_input": "2021-12-17T19:12:24.785484Z",
     "iopub.status.idle": "2021-12-17T19:12:24.798607Z",
     "shell.execute_reply.started": "2021-12-17T19:12:24.785437Z",
     "shell.execute_reply": "2021-12-17T19:12:24.7978Z"
    },
    "trusted": true
   },
   "execution_count": null,
   "outputs": []
  },
  {
   "cell_type": "code",
   "source": "# LEARNING RATE SCHEDULE AND MODEL CHECKPOINT\nEPOCHS = 5\nLRS = [1e-4, 1e-4, 1e-4, 1e-4, 1e-5]\ndef lrfn(epoch):\n    return LRS[epoch]\nlr_callback = tf.keras.callbacks.LearningRateScheduler(lrfn, verbose = True)",
   "metadata": {
    "execution": {
     "iopub.status.busy": "2021-12-17T19:12:38.905282Z",
     "iopub.execute_input": "2021-12-17T19:12:38.905972Z",
     "iopub.status.idle": "2021-12-17T19:12:38.912783Z",
     "shell.execute_reply.started": "2021-12-17T19:12:38.905932Z",
     "shell.execute_reply": "2021-12-17T19:12:38.910623Z"
    },
    "trusted": true
   },
   "execution_count": null,
   "outputs": []
  },
  {
   "cell_type": "code",
   "source": "# LOAD MODEL\nif LOAD_MODEL_FROM:\n    model.load_weights(f'{LOAD_MODEL_FROM}/long_v{VER}.h5')\n    \n# OR TRAIN MODEL\nelse:\n    model.fit(x = [train_tokens[train_idx,], train_attention[train_idx,]],\n          y = targets[train_idx,],\n          validation_data = ([train_tokens[valid_idx,], train_attention[valid_idx,]],\n                             targets[valid_idx,]),\n          callbacks = [lr_callback],\n          epochs = EPOCHS,\n          batch_size = 32,\n          verbose = 2)\n\n    # SAVE MODEL WEIGHTS\n    model.save_weights(f'long_v{VER}.h5')",
   "metadata": {
    "scrolled": true,
    "execution": {
     "iopub.status.busy": "2021-12-17T19:12:52.043548Z",
     "iopub.execute_input": "2021-12-17T19:12:52.044188Z",
     "iopub.status.idle": "2021-12-17T19:12:59.949075Z",
     "shell.execute_reply.started": "2021-12-17T19:12:52.044148Z",
     "shell.execute_reply": "2021-12-17T19:12:59.948327Z"
    },
    "trusted": true
   },
   "execution_count": null,
   "outputs": []
  },
  {
   "cell_type": "markdown",
   "source": "# Validate Model - Infer OOF\nWe will now make predictions on the validation texts. Our model makes label predictions for each token, we need to convert this into a list of word indices for each label. Note that the tokens and words are not the same. A single word may be broken into multiple tokens. Therefore we need to first create a map to change token indices to word indices.",
   "metadata": {}
  },
  {
   "cell_type": "code",
   "source": "p = model.predict([train_tokens[valid_idx,], train_attention[valid_idx,]], \n                  batch_size=16, verbose=2)\nprint('OOF predictions shape:',p.shape)\noof_preds = np.argmax(p,axis=-1)",
   "metadata": {
    "execution": {
     "iopub.status.busy": "2021-12-17T19:35:15.536694Z",
     "iopub.execute_input": "2021-12-17T19:35:15.537233Z",
     "iopub.status.idle": "2021-12-17T19:38:37.519278Z",
     "shell.execute_reply.started": "2021-12-17T19:35:15.537193Z",
     "shell.execute_reply": "2021-12-17T19:38:37.518526Z"
    },
    "trusted": true
   },
   "execution_count": null,
   "outputs": []
  },
  {
   "cell_type": "code",
   "source": "target_map_rev = {0:'Lead', 1:'Position', 2:'Evidence', 3:'Claim', 4:'Concluding Statement',\n             5:'Counterclaim', 6:'Rebuttal', 7:'blank'}",
   "metadata": {
    "execution": {
     "iopub.status.busy": "2021-12-17T19:17:57.710515Z",
     "iopub.execute_input": "2021-12-17T19:17:57.711068Z",
     "iopub.status.idle": "2021-12-17T19:17:57.715482Z",
     "shell.execute_reply.started": "2021-12-17T19:17:57.711027Z",
     "shell.execute_reply": "2021-12-17T19:17:57.714503Z"
    },
    "trusted": true
   },
   "execution_count": null,
   "outputs": []
  },
  {
   "cell_type": "code",
   "source": "def get_preds(dataset='train', verbose=True, text_ids=IDS[valid_idx], preds=oof_preds):\n    all_predictions = []\n\n    for id_num in range(len(preds)):\n    \n        # GET ID\n        if (id_num%100==0)&(verbose): \n            print(id_num,', ',end='')\n        n = text_ids[id_num]\n    \n        # GET TOKEN POSITIONS IN CHARS\n        name = f'../input/feedback-prize-2021/{dataset}/{n}.txt'\n        txt = open(name, 'r').read()\n        tokens = tokenizer.encode_plus(txt, max_length=MAX_LEN, padding='max_length',\n                                   truncation=True, return_offsets_mapping=True)\n        off = tokens['offset_mapping']\n    \n        # GET WORD POSITIONS IN CHARS\n        w = []\n        blank = True\n        for i in range(len(txt)):\n            if (txt[i]!=' ')&(txt[i]!='\\n')&(blank==True):\n                w.append(i)\n                blank=False\n            elif (txt[i]==' ')|(txt[i]=='\\n'):\n                blank=True\n        w.append(1e6)\n            \n        # MAPPING FROM TOKENS TO WORDS\n        word_map = -1 * np.ones(MAX_LEN,dtype='int32')\n        w_i = 0\n        for i in range(len(off)):\n            if off[i][1]==0: continue\n            while off[i][0]>=w[w_i+1]: w_i += 1\n            word_map[i] = int(w_i)\n        \n        # CONVERT TOKEN PREDICTIONS INTO WORD LABELS\n        # KEY:\n        # 0: LEAD_B, 1: LEAD_I\n        # 2: POSITION_B, 3: POSITION_I\n        # 4: EVIDENCE_B, 5: EVIDENCE_I\n        # 6: CLAIM_B, 7: CLAIM_I\n        # 8: CONCLUSION_B, 9: CONCLUSION_I\n        # 10: COUNTERCLAIM_B, 11: COUNTERCLAIM_I\n        # 12: REBUTTAL_B, 13: REBUTTAL_I\n        # 14: NOTHING i.e. O\n        pred = preds[id_num,]/2.0\n    \n        i = 0\n        while i<MAX_LEN:\n            prediction = []\n            start = pred[i]\n            if start in [0,1,2,3,4,5,6,7]:\n                prediction.append(word_map[i])\n                i += 1\n                if i>=MAX_LEN: break\n                while pred[i]==start+0.5:\n                    if not word_map[i] in prediction:\n                        prediction.append(word_map[i])\n                    i += 1\n                    if i>=MAX_LEN: break\n            else:\n                i += 1\n            prediction = [x for x in prediction if x!=-1]\n            if len(prediction)>4:\n                all_predictions.append( (n, target_map_rev[int(start)], \n                                ' '.join([str(x) for x in prediction]) ) )\n                \n    # MAKE DATAFRAME\n    df = pd.DataFrame(all_predictions)\n    df.columns = ['id','class','predictionstring']\n    \n    return df",
   "metadata": {
    "execution": {
     "iopub.status.busy": "2021-12-17T19:41:51.404838Z",
     "iopub.execute_input": "2021-12-17T19:41:51.405252Z",
     "iopub.status.idle": "2021-12-17T19:41:51.419181Z",
     "shell.execute_reply.started": "2021-12-17T19:41:51.405212Z",
     "shell.execute_reply": "2021-12-17T19:41:51.418506Z"
    },
    "trusted": true
   },
   "execution_count": null,
   "outputs": []
  },
  {
   "cell_type": "code",
   "source": "oof = get_preds( dataset='train', verbose=True, text_ids=IDS[valid_idx] )\noof.head()",
   "metadata": {
    "execution": {
     "iopub.status.busy": "2021-12-17T19:38:52.583983Z",
     "iopub.execute_input": "2021-12-17T19:38:52.584467Z",
     "iopub.status.idle": "2021-12-17T19:39:05.935241Z",
     "shell.execute_reply.started": "2021-12-17T19:38:52.584427Z",
     "shell.execute_reply": "2021-12-17T19:39:05.934505Z"
    },
    "trusted": true
   },
   "execution_count": null,
   "outputs": []
  },
  {
   "cell_type": "code",
   "source": "print('The following classes are present in oof preds:')\noof['class'].unique()",
   "metadata": {
    "execution": {
     "iopub.status.busy": "2021-12-17T19:39:08.710793Z",
     "iopub.execute_input": "2021-12-17T19:39:08.711353Z",
     "iopub.status.idle": "2021-12-17T19:39:08.718854Z",
     "shell.execute_reply.started": "2021-12-17T19:39:08.711312Z",
     "shell.execute_reply": "2021-12-17T19:39:08.718103Z"
    },
    "trusted": true
   },
   "execution_count": null,
   "outputs": []
  },
  {
   "cell_type": "markdown",
   "source": "# Compute Validation Metric\nThe following code is from Rob Mulla's excellent notebook [here][2]. Our LongFormer single fold model achieves CV score 0.617! Hooray!\n\n[2]: https://www.kaggle.com/robikscube/student-writing-competition-twitch",
   "metadata": {}
  },
  {
   "cell_type": "code",
   "source": "# CODE FROM : Rob Mulla @robikscube\n# https://www.kaggle.com/robikscube/student-writing-competition-twitch\ndef calc_overlap(row):\n    \"\"\"\n    Calculates the overlap between prediction and\n    ground truth and overlap percentages used for determining\n    true positives.\n    \"\"\"\n    set_pred = set(row.predictionstring_pred.split(' '))\n    set_gt = set(row.predictionstring_gt.split(' '))\n    # Length of each and intersection\n    len_gt = len(set_gt)\n    len_pred = len(set_pred)\n    inter = len(set_gt.intersection(set_pred))\n    overlap_1 = inter / len_gt\n    overlap_2 = inter/ len_pred\n    return [overlap_1, overlap_2]\n\n\ndef score_feedback_comp(pred_df, gt_df):\n    \"\"\"\n    A function that scores for the kaggle\n        Student Writing Competition\n        \n    Uses the steps in the evaluation page here:\n        https://www.kaggle.com/c/feedback-prize-2021/overview/evaluation\n    \"\"\"\n    gt_df = gt_df[['id','discourse_type','predictionstring']] \\\n        .reset_index(drop=True).copy()\n    pred_df = pred_df[['id','class','predictionstring']] \\\n        .reset_index(drop=True).copy()\n    pred_df['pred_id'] = pred_df.index\n    gt_df['gt_id'] = gt_df.index\n    # Step 1. all ground truths and predictions for a given class are compared.\n    joined = pred_df.merge(gt_df,\n                           left_on=['id','class'],\n                           right_on=['id','discourse_type'],\n                           how='outer',\n                           suffixes=('_pred','_gt')\n                          )\n    joined['predictionstring_gt'] = joined['predictionstring_gt'].fillna(' ')\n    joined['predictionstring_pred'] = joined['predictionstring_pred'].fillna(' ')\n\n    joined['overlaps'] = joined.apply(calc_overlap, axis=1)\n\n    # 2. If the overlap between the ground truth and prediction is >= 0.5, \n    # and the overlap between the prediction and the ground truth >= 0.5,\n    # the prediction is a match and considered a true positive.\n    # If multiple matches exist, the match with the highest pair of overlaps is taken.\n    joined['overlap1'] = joined['overlaps'].apply(lambda x: eval(str(x))[0])\n    joined['overlap2'] = joined['overlaps'].apply(lambda x: eval(str(x))[1])\n\n\n    joined['potential_TP'] = (joined['overlap1'] >= 0.5) & (joined['overlap2'] >= 0.5)\n    joined['max_overlap'] = joined[['overlap1','overlap2']].max(axis=1)\n    tp_pred_ids = joined.query('potential_TP') \\\n        .sort_values('max_overlap', ascending=False) \\\n        .groupby(['id','predictionstring_gt']).first()['pred_id'].values\n\n    # 3. Any unmatched ground truths are false negatives\n    # and any unmatched predictions are false positives.\n    fp_pred_ids = [p for p in joined['pred_id'].unique() if p not in tp_pred_ids]\n\n    matched_gt_ids = joined.query('potential_TP')['gt_id'].unique()\n    unmatched_gt_ids = [c for c in joined['gt_id'].unique() if c not in matched_gt_ids]\n\n    # Get numbers of each type\n    TP = len(tp_pred_ids)\n    FP = len(fp_pred_ids)\n    FN = len(unmatched_gt_ids)\n    #calc microf1\n    my_f1_score = TP / (TP + 0.5*(FP+FN))\n    return my_f1_score",
   "metadata": {
    "execution": {
     "iopub.status.busy": "2021-12-17T19:18:48.5574Z",
     "iopub.execute_input": "2021-12-17T19:18:48.557676Z",
     "iopub.status.idle": "2021-12-17T19:18:48.572635Z",
     "shell.execute_reply.started": "2021-12-17T19:18:48.557629Z",
     "shell.execute_reply": "2021-12-17T19:18:48.571868Z"
    },
    "trusted": true
   },
   "execution_count": null,
   "outputs": []
  },
  {
   "cell_type": "code",
   "source": "# VALID DATAFRAME\nvalid = train.loc[train['id'].isin(IDS[valid_idx])]",
   "metadata": {
    "execution": {
     "iopub.status.busy": "2021-12-17T19:18:51.690616Z",
     "iopub.execute_input": "2021-12-17T19:18:51.69091Z",
     "iopub.status.idle": "2021-12-17T19:18:51.731284Z",
     "shell.execute_reply.started": "2021-12-17T19:18:51.690875Z",
     "shell.execute_reply": "2021-12-17T19:18:51.730573Z"
    },
    "trusted": true
   },
   "execution_count": null,
   "outputs": []
  },
  {
   "cell_type": "code",
   "source": "f1s = []\nCLASSES = oof['class'].unique()\nfor c in CLASSES:\n    pred_df = oof.loc[oof['class']==c].copy()\n    gt_df = valid.loc[valid['discourse_type']==c].copy()\n    f1 = score_feedback_comp(pred_df, gt_df)\n    print(c,f1)\n    f1s.append(f1)\nprint()\nprint('Overall',np.mean(f1s))",
   "metadata": {
    "execution": {
     "iopub.status.busy": "2021-12-17T19:39:15.827069Z",
     "iopub.execute_input": "2021-12-17T19:39:15.827351Z",
     "iopub.status.idle": "2021-12-17T19:39:18.254036Z",
     "shell.execute_reply.started": "2021-12-17T19:39:15.827318Z",
     "shell.execute_reply": "2021-12-17T19:39:18.253161Z"
    },
    "trusted": true
   },
   "execution_count": null,
   "outputs": []
  },
  {
   "cell_type": "markdown",
   "source": "# Infer Test Data\nWe will now infer the test data and create a submission. Our CV is 0.617, let's see what our LB is!",
   "metadata": {}
  },
  {
   "cell_type": "code",
   "source": "# GET TEST TEXT IDS\nfiles = os.listdir('../input/feedback-prize-2021/test')\nTEST_IDS = [f.replace('.txt','') for f in files if 'txt' in f]\nprint('There are',len(TEST_IDS),'test texts.')",
   "metadata": {
    "execution": {
     "iopub.status.busy": "2021-12-17T19:23:45.716147Z",
     "iopub.execute_input": "2021-12-17T19:23:45.716605Z",
     "iopub.status.idle": "2021-12-17T19:23:45.733367Z",
     "shell.execute_reply.started": "2021-12-17T19:23:45.716559Z",
     "shell.execute_reply": "2021-12-17T19:23:45.732388Z"
    },
    "trusted": true
   },
   "execution_count": null,
   "outputs": []
  },
  {
   "cell_type": "code",
   "source": "# CONVERT TEST TEXT TO TOKENS\ntest_tokens = np.zeros((len(TEST_IDS),MAX_LEN), dtype='int32')\ntest_attention = np.zeros((len(TEST_IDS),MAX_LEN), dtype='int32')\n\nfor id_num in range(len(TEST_IDS)):\n        \n    # READ TRAIN TEXT, TOKENIZE, AND SAVE IN TOKEN ARRAYS    \n    n = TEST_IDS[id_num]\n    name = f'../input/feedback-prize-2021/test/{n}.txt'\n    txt = open(name, 'r').read()\n    tokens = tokenizer.encode_plus(txt, max_length=MAX_LEN, padding='max_length',\n                                   truncation=True, return_offsets_mapping=True)\n    test_tokens[id_num,] = tokens['input_ids']\n    test_attention[id_num,] = tokens['attention_mask']",
   "metadata": {
    "execution": {
     "iopub.status.busy": "2021-12-17T19:26:18.345146Z",
     "iopub.execute_input": "2021-12-17T19:26:18.345433Z",
     "iopub.status.idle": "2021-12-17T19:26:18.412386Z",
     "shell.execute_reply.started": "2021-12-17T19:26:18.345399Z",
     "shell.execute_reply": "2021-12-17T19:26:18.411522Z"
    },
    "trusted": true
   },
   "execution_count": null,
   "outputs": []
  },
  {
   "cell_type": "code",
   "source": "# INFER TEST TEXTS\np = model.predict([test_tokens, test_attention], \n                  batch_size=16, verbose=2)\nprint('Test predictions shape:',p.shape)\ntest_preds = np.argmax(p,axis=-1)",
   "metadata": {
    "execution": {
     "iopub.status.busy": "2021-12-17T19:39:40.596947Z",
     "iopub.execute_input": "2021-12-17T19:39:40.597214Z",
     "iopub.status.idle": "2021-12-17T19:39:41.226362Z",
     "shell.execute_reply.started": "2021-12-17T19:39:40.59718Z",
     "shell.execute_reply": "2021-12-17T19:39:41.225Z"
    },
    "trusted": true
   },
   "execution_count": null,
   "outputs": []
  },
  {
   "cell_type": "markdown",
   "source": "# Write Submission CSV",
   "metadata": {}
  },
  {
   "cell_type": "code",
   "source": "# GET TEST PREDICIONS\nsub = get_preds( dataset='test', verbose=False, text_ids=TEST_IDS, preds=test_preds )\nsub.head()",
   "metadata": {
    "execution": {
     "iopub.status.busy": "2021-12-17T19:41:55.220027Z",
     "iopub.execute_input": "2021-12-17T19:41:55.220569Z",
     "iopub.status.idle": "2021-12-17T19:41:55.301261Z",
     "shell.execute_reply.started": "2021-12-17T19:41:55.220529Z",
     "shell.execute_reply": "2021-12-17T19:41:55.300544Z"
    },
    "trusted": true
   },
   "execution_count": null,
   "outputs": []
  },
  {
   "cell_type": "code",
   "source": "# WRITE SUBMISSION CSV\nsub.to_csv('submission.csv',index=False)",
   "metadata": {},
   "execution_count": null,
   "outputs": []
  }
 ]
}